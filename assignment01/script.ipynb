{
 "cells": [
  {
   "cell_type": "code",
   "execution_count": 49,
   "metadata": {},
   "outputs": [],
   "source": [
    "import pandas as pd\n",
    "import numpy as np"
   ]
  },
  {
   "cell_type": "markdown",
   "metadata": {},
   "source": [
    "### Reading the file from the Assignment"
   ]
  },
  {
   "cell_type": "code",
   "execution_count": null,
   "metadata": {},
   "outputs": [],
   "source": [
    "data = pd.read_csv(\"languages.tsv\", delimiter=\"\\t\", encoding=\"utf-8\", engine=\"python\")"
   ]
  },
  {
   "cell_type": "code",
   "execution_count": null,
   "metadata": {},
   "outputs": [],
   "source": [
    "# filter to get columns that are needed\n",
    "features = data.columns.values[10:]\n",
    "filtered = data[[\"iso_code\", \"Name\", \"genus\"]+list(features)]\n",
    "filtered.dropna(how='all', inplace=True)"
   ]
  },
  {
   "cell_type": "code",
   "execution_count": 56,
   "metadata": {},
   "outputs": [
    {
     "data": {
      "text/plain": [
       "Index(['iso_code', 'Name', 'genus', '1A Consonant Inventories',\n",
       "       '2A Vowel Quality Inventories', '3A Consonant-Vowel Ratio',\n",
       "       '4A Voicing in Plosives and Fricatives',\n",
       "       '5A Voicing and Gaps in Plosive Systems', '6A Uvular Consonants',\n",
       "       '7A Glottalized Consonants',\n",
       "       ...\n",
       "       '137B M in Second Person Singular', '136B M in First Person Singular',\n",
       "       '109B Other Roles of Applied Objects',\n",
       "       '10B Nasal Vowels in West Africa',\n",
       "       '25B Zero Marking of A and P Arguments',\n",
       "       '21B Exponence of Tense-Aspect-Mood Inflection',\n",
       "       '108B Productivity of the Antipassive Construction',\n",
       "       '130B Cultural Categories of Languages with Identity of 'Finger' and 'Hand'',\n",
       "       '58B Number of Possessive Nouns',\n",
       "       '79B Suppletion in Imperatives and Hortatives'],\n",
       "      dtype='object', length=195)"
      ]
     },
     "execution_count": 56,
     "metadata": {},
     "output_type": "execute_result"
    }
   ],
   "source": [
    "filtered.columns"
   ]
  },
  {
   "cell_type": "code",
   "execution_count": 57,
   "metadata": {},
   "outputs": [],
   "source": [
    "columns = filtered.columns\n",
    "infos = {}\n",
    "for i in range(filtered.shape[0]):\n",
    "    id, name, genus = filtered.at[i,columns[0]], filtered.at[i,columns[1]], filtered.at[i,columns[2]]\n",
    "    if id is not np.NAN:\n",
    "        if id not in infos:\n",
    "            infos[id]={\"Name\": name, \"Genus\":genus, \"Features\":[]}\n",
    "        for f in columns[3:]:\n",
    "            if filtered.at[i,f] is not np.NAN:\n",
    "                infos[id][\"Features\"].append((\" \".join(str(f).split()), filtered.at[i,f]))\n",
    "    "
   ]
  },
  {
   "cell_type": "code",
   "execution_count": 59,
   "metadata": {},
   "outputs": [
    {
     "data": {
      "text/plain": [
       "{'Name': 'German (Berlin)',\n",
       " 'Genus': 'Germanic',\n",
       " 'Features': [('54A Distributive Numerals', '1 No distributive numerals'),\n",
       "  ('1A Consonant Inventories', '3 Average'),\n",
       "  ('2A Vowel Quality Inventories', '3 Large (7-14)'),\n",
       "  ('3A Consonant-Vowel Ratio', '1 Low'),\n",
       "  ('4A Voicing in Plosives and Fricatives',\n",
       "   '4 In both plosives and fricatives'),\n",
       "  ('5A Voicing and Gaps in Plosive Systems',\n",
       "   '2 None missing in /p t k b d g/'),\n",
       "  ('6A Uvular Consonants', '3 Uvular continuants only'),\n",
       "  ('7A Glottalized Consonants', '1 No glottalized consonants'),\n",
       "  ('8A Lateral Consonants', '2 /l/, no obstruent laterals'),\n",
       "  ('9A The Velar Nasal', '2 No initial velar nasal'),\n",
       "  ('10A Vowel Nasalization', '2 Contrast absent'),\n",
       "  ('11A Front Rounded Vowels', '2 High and mid'),\n",
       "  ('12A Syllable Structure', '3 Complex'),\n",
       "  ('13A Tone', '1 No tones'),\n",
       "  ('14A Fixed Stress Locations', '1 No fixed stress'),\n",
       "  ('15A Weight-Sensitive Stress', '4 Right-oriented: One of the last three'),\n",
       "  ('16A Weight Factors in Weight-Sensitive Stress Systems',\n",
       "   '3 Coda consonant'),\n",
       "  ('17A Rhythm Types', '1 Trochaic'),\n",
       "  ('18A Absence of Common Consonants', '1 All present'),\n",
       "  ('19A Presence of Uncommon Consonants', '1 None'),\n",
       "  ('20A Fusion of Selected Inflectional Formatives',\n",
       "   '1 Exclusively concatenative'),\n",
       "  ('21A Exponence of Selected Inflectional Formatives', '2 Case + number'),\n",
       "  ('22A Inflectional Synthesis of the Verb', '2 2-3 categories per word'),\n",
       "  ('23A Locus of Marking in the Clause', '2 Dependent marking'),\n",
       "  ('24A Locus of Marking in Possessive Noun Phrases', '2 Dependent marking'),\n",
       "  ('25A Locus of Marking: Whole-language Typology', '2 Dependent-marking'),\n",
       "  ('26A Prefixing vs. Suffixing in Inflectional Morphology',\n",
       "   '2 Strongly suffixing'),\n",
       "  ('27A Reduplication', '3 No productive reduplication'),\n",
       "  ('28A Case Syncretism', '3 Core and non-core'),\n",
       "  ('29A Syncretism in Verbal Person/Number Marking', '2 Syncretic'),\n",
       "  ('30A Number of Genders', '3 Three'),\n",
       "  ('31A Sex-based and Non-sex-based Gender Systems', '2 Sex-based'),\n",
       "  ('32A Systems of Gender Assignment', '3 Semantic and formal'),\n",
       "  ('33A Coding of Nominal Plurality', '2 Plural suffix'),\n",
       "  ('34A Occurrence of Nominal Plurality', '6 All nouns, always obligatory'),\n",
       "  ('35A Plurality in Independent Personal Pronouns', '4 Person-number stem'),\n",
       "  ('36A The Associative Plural', '3 Unique periphrastic associative plural'),\n",
       "  ('37A Definite Articles', '1 Definite word distinct from demonstrative'),\n",
       "  ('38A Indefinite Articles', \"2 Indefinite word same as 'one'\"),\n",
       "  ('39A Inclusive/Exclusive Distinction in Independent Pronouns',\n",
       "   '3 No inclusive/exclusive'),\n",
       "  ('40A Inclusive/Exclusive Distinction in Verbal Inflection',\n",
       "   '3 No inclusive/exclusive'),\n",
       "  ('41A Distance Contrasts in Demonstratives', '1 No distance contrast'),\n",
       "  ('42A Pronominal and Adnominal Demonstratives', '1 Identical'),\n",
       "  ('43A Third Person Pronouns and Demonstratives',\n",
       "   '5 Related by gender markers'),\n",
       "  ('44A Gender Distinctions in Independent Personal Pronouns',\n",
       "   '3 3rd person singular only'),\n",
       "  ('45A Politeness Distinctions in Pronouns',\n",
       "   '2 Binary politeness distinction'),\n",
       "  ('46A Indefinite Pronouns', '4 Mixed'),\n",
       "  ('47A Intensifiers and Reflexive Pronouns', '2 Differentiated'),\n",
       "  ('48A Person Marking on Adpositions', '2 No person marking'),\n",
       "  ('49A Number of Cases', '4 4 cases'),\n",
       "  ('50A Asymmetrical Case-Marking', '6 Syncretism in relevant NP-types'),\n",
       "  ('51A Position of Case Affixes', '1 Case suffixes'),\n",
       "  ('52A Comitatives and Instrumentals', '1 Identity'),\n",
       "  ('53A Ordinal Numerals', '6 First, two-th, three-th'),\n",
       "  ('54A Distributive Numerals', '5 Marked by preceding word'),\n",
       "  ('55A Numeral Classifiers', '1 Absent'),\n",
       "  ('57A Position of Pronominal Possessive Affixes', '4 No possessive affixes'),\n",
       "  ('58A Obligatory Possessive Inflection', '2 Absent'),\n",
       "  ('59A Possessive Classification', '1 No possessive classification'),\n",
       "  ('62A Action Nominal Constructions', '3 Ergative-Possessive'),\n",
       "  ('64A Nominal and Verbal Conjunction', '1 Identity'),\n",
       "  ('65A Perfective/Imperfective Aspect', '2 No grammatical marking'),\n",
       "  ('66A The Past Tense', '1 Present, no remoteness distinctions'),\n",
       "  ('67A The Future Tense', '2 No inflectional future'),\n",
       "  ('68A The Perfect', '1 From possessive'),\n",
       "  ('69A Position of Tense-Aspect Affixes', '2 Tense-aspect suffixes'),\n",
       "  ('70A The Morphological Imperative', '2 Second singular'),\n",
       "  ('71A The Prohibitive', '1 Normal imperative + normal negative'),\n",
       "  ('72A Imperative-Hortative Systems', '4 Neither type of system'),\n",
       "  ('73A The Optative', '2 Inflectional optative absent'),\n",
       "  ('74A Situational Possibility', '2 Verbal constructions'),\n",
       "  ('75A Epistemic Possibility', '1 Verbal constructions'),\n",
       "  ('76A Overlap between Situational and Epistemic Modal Marking',\n",
       "   '1 Overlap for both possibility and necessity'),\n",
       "  ('77A Semantic Distinctions of Evidentiality', '2 Indirect only'),\n",
       "  ('78A Coding of Evidentiality', '5 Modal morpheme'),\n",
       "  ('79A Suppletion According to Tense and Aspect', '1 Tense'),\n",
       "  ('80A Verbal Number and Suppletion', '1 None'),\n",
       "  ('81A Order of Subject, Object and Verb', '7 No dominant order'),\n",
       "  ('82A Order of Subject and Verb', '1 SV'),\n",
       "  ('83A Order of Object and Verb', '3 No dominant order'),\n",
       "  ('84A Order of Object, Oblique, and Verb', '6 No dominant order'),\n",
       "  ('85A Order of Adposition and Noun Phrase', '2 Prepositions'),\n",
       "  ('86A Order of Genitive and Noun', '2 Noun-Genitive'),\n",
       "  ('87A Order of Adjective and Noun', '1 Adjective-Noun'),\n",
       "  ('88A Order of Demonstrative and Noun', '1 Demonstrative-Noun'),\n",
       "  ('89A Order of Numeral and Noun', '1 Numeral-Noun'),\n",
       "  ('90A Order of Relative Clause and Noun', '1 Noun-Relative clause'),\n",
       "  ('91A Order of Degree Word and Adjective', '1 Degree word-Adjective'),\n",
       "  ('92A Position of Polar Question Particles', '6 No question particle'),\n",
       "  ('93A Position of Interrogative Phrases in Content Questions',\n",
       "   '1 Initial interrogative phrase'),\n",
       "  ('94A Order of Adverbial Subordinator and Clause',\n",
       "   '1 Initial subordinator word'),\n",
       "  ('95A Relationship between the Order of Object and Verb and the Order of Adposition and Noun Phrase',\n",
       "   '5 Other'),\n",
       "  ('96A Relationship between the Order of Object and Verb and the Order of Relative Clause and Noun',\n",
       "   '5 Other'),\n",
       "  ('97A Relationship between the Order of Object and Verb and the Order of Adjective and Noun',\n",
       "   '5 Other'),\n",
       "  ('98A Alignment of Case Marking of Full Noun Phrases',\n",
       "   '2 Nominative - accusative (standard)'),\n",
       "  ('99A Alignment of Case Marking of Pronouns',\n",
       "   '2 Nominative - accusative (standard)'),\n",
       "  ('100A Alignment of Verbal Person Marking', '2 Accusative'),\n",
       "  ('101A Expression of Pronominal Subjects',\n",
       "   '1 Obligatory pronouns in subject position'),\n",
       "  ('102A Verbal Person Marking', '2 Only the A argument'),\n",
       "  ('103A Third Person Zero of Verbal Person Marking', '2 No zero realization'),\n",
       "  ('104A Order of Person Markers on the Verb',\n",
       "   '1 A and P do not or do not both occur on the verb'),\n",
       "  (\"105A Ditransitive Constructions: The Verb 'Give'\",\n",
       "   '1 Indirect-object construction'),\n",
       "  ('106A Reciprocal Constructions', '3 Mixed'),\n",
       "  ('107A Passive Constructions', '1 Present'),\n",
       "  ('108A Antipassive Constructions', '3 No antipassive'),\n",
       "  ('109A Applicative Constructions', '8 No applicative construction'),\n",
       "  ('110A Periphrastic Causative Constructions',\n",
       "   '1 Sequential but no purposive'),\n",
       "  ('111A Nonperiphrastic Causative Constructions',\n",
       "   '2 Morphological but no compound'),\n",
       "  ('112A Negative Morphemes', '2 Negative particle'),\n",
       "  ('113A Symmetric and Asymmetric Standard Negation', '1 Symmetric'),\n",
       "  ('114A Subtypes of Asymmetric Standard Negation', '7 Non-assignable'),\n",
       "  ('115A Negative Indefinite Pronouns and Predicate Negation',\n",
       "   '2 No predicate negation'),\n",
       "  ('116A Polar Questions', '4 Interrogative word order'),\n",
       "  ('122A Relativization on Subjects', '1 Relative pronoun'),\n",
       "  ('123A Relativization on Obliques', '1 Relative pronoun'),\n",
       "  (\"124A 'Want' Complement Subjects\", '1 Subject is left implicit'),\n",
       "  ('125A Purpose Clauses', '2 Balanced/deranked'),\n",
       "  (\"126A 'When' Clauses\", '2 Balanced/deranked'),\n",
       "  ('127A Reason Clauses', '1 Balanced'),\n",
       "  ('129A Hand and Arm', '2 Different'),\n",
       "  ('130A Finger and Hand', '2 Different'),\n",
       "  ('131A Numeral Bases', '1 Decimal'),\n",
       "  ('132A Number of Non-Derived Basic Colour Categories', '7 6'),\n",
       "  ('133A Number of Basic Colour Categories', '7 11'),\n",
       "  ('134A Green and Blue', '1 Green vs. blue'),\n",
       "  ('135A Red and Yellow', '1 Red vs. yellow'),\n",
       "  ('136A M-T Pronouns', '2 M-T pronouns, paradigmatic'),\n",
       "  ('137A N-M Pronouns', '1 No N-M pronouns'),\n",
       "  ('138A Tea', '2 Words derived from Min Nan Chinese te'),\n",
       "  ('142A Para-Linguistic Usages of Clicks', '2 Affective meanings'),\n",
       "  ('143F Postverbal Negative Morphemes', '1 VNeg'),\n",
       "  ('90C Postnominal relative clauses',\n",
       "   '1 Noun-Relative clause (NRel) dominant'),\n",
       "  ('144P NegSOV Order', '4 No NegSOV'),\n",
       "  ('144J SVNegO Order', '7 No SVNegO'),\n",
       "  ('144S SOVNeg Order', '11 NoSOVNeg'),\n",
       "  ('144A Position of Negative Word With Respect to Subject, Object, and Verb',\n",
       "   '16 More than one position'),\n",
       "  ('144I SNegVO Order', '8 No SNegVO'),\n",
       "  ('144R SONegV Order', '1 Word&NoDoubleNeg'),\n",
       "  ('144M Multiple Negative Constructions in SOV Languages', '9 SONegV/SVONeg'),\n",
       "  ('144K SVONeg Order', '1 NoDoubleNeg'),\n",
       "  ('144B Position of negative words relative to beginning and end of clause and with respect to adjacency to verb',\n",
       "   '6 End, not immed postverbal'),\n",
       "  ('144E Multiple Negative Constructions in SVO Languages',\n",
       "   '15 SVONeg/SONegV'),\n",
       "  ('144D The Position of Negative Morphemes in SVO Languages',\n",
       "   '13 More than one construction'),\n",
       "  ('81B Languages with two Dominant Orders of Subject, Object, and Verb',\n",
       "   '1 SOV or SVO'),\n",
       "  ('143E Preverbal Negative Morphemes', '1 NegV'),\n",
       "  ('143A Order of Negative Morpheme and Verb', '6 Type 1 / Type 2'),\n",
       "  ('144Q SNegOV Order', '4 No SNegOV'),\n",
       "  ('144L The Position of Negative Morphemes in SOV Languages',\n",
       "   '15 More than one construction'),\n",
       "  ('144H NegSVO Order', '4 No NegSVO'),\n",
       "  ('143G Minor morphological means of signaling negation', '4 None'),\n",
       "  ('137B M in Second Person Singular', '1 No m in second person singular'),\n",
       "  ('136B M in First Person Singular', '2 m in first person singular'),\n",
       "  ('109B Other Roles of Applied Objects', '5 No applicative construction'),\n",
       "  ('25B Zero Marking of A and P Arguments', '2 Non-zero marking'),\n",
       "  ('21B Exponence of Tense-Aspect-Mood Inflection', '1 monoexponential TAM'),\n",
       "  ('108B Productivity of the Antipassive Construction', '4 no antipassive'),\n",
       "  ('58B Number of Possessive Nouns', '1 None reported'),\n",
       "  ('79B Suppletion in Imperatives and Hortatives',\n",
       "   '5 None (= no suppletive imperatives reported in the reference material)'),\n",
       "  ('54A Distributive Numerals', '1 No distributive numerals'),\n",
       "  ('54A Distributive Numerals', '1 No distributive numerals'),\n",
       "  ('54A Distributive Numerals', '1 No distributive numerals'),\n",
       "  ('54A Distributive Numerals', '5 Marked by preceding word')]}"
      ]
     },
     "execution_count": 59,
     "metadata": {},
     "output_type": "execute_result"
    }
   ],
   "source": [
    "infos['deu']"
   ]
  },
  {
   "cell_type": "markdown",
   "metadata": {},
   "source": [
    "Please do not call the function below!!! This is just for showing. The result is saved in \"all_languages_sm_score.pkl\"."
   ]
  },
  {
   "cell_type": "code",
   "execution_count": 154,
   "metadata": {},
   "outputs": [],
   "source": [
    "#compute the similar shared features scores for each language pairs, very computational expensive so I saved the result\n",
    "def get_all_sm_scores(filtered_data):\n",
    "    all_sim_scores = {}\n",
    "    for c1 in filtered[\"iso_code\"].values:\n",
    "        for c2 in filtered[\"iso_code\"].values:\n",
    "            if c1 is not np.NAN and c2 is not np.NAN:\n",
    "                if (c1, c2) not in all_sim_scores and (c2, c1) not in all_sim_scores:\n",
    "                    print(c1, c2)\n",
    "                    all_sim_scores[(c1, c2)] = 0\n",
    "                f1, f2 = infos[c1][\"Features\"], infos[c2][\"Features\"]\n",
    "                share_feats = np.sum([v == t for k, v in f1 for f, t in f2 if k==f])\n",
    "                all_sim_scores[(c1, c2)] = share_feats/len(features)    \n",
    "    return all_sim_scores              "
   ]
  },
  {
   "cell_type": "code",
   "execution_count": 101,
   "metadata": {},
   "outputs": [],
   "source": [
    "#import pickle\n",
    "#with open('all_langs_sm_scores.pkl', 'wb') as file:     \n",
    "    #pickle.dump(all_sim_scores, file) "
   ]
  },
  {
   "cell_type": "markdown",
   "metadata": {},
   "source": [
    "#### Task 1\n",
    "I didn't do anything fancy, basically just compared all the features with non-none values and count how many of them share within two languages and average by total type features. <br>\n",
    "The result shows that this Hamming distance of features are not the best measure of language similarities given WALS features. For example, it returns the closest language to Czech is Latvian, but I would assume it's Slovak. I would probably add the geographical distance as a feature as well, closer the distance of two languages (not always), should be more similar to each other. Or use whether they belong to the same family as another feature in addition."
   ]
  },
  {
   "cell_type": "code",
   "execution_count": 73,
   "metadata": {},
   "outputs": [],
   "source": [
    "def get_most_similar_languages(iso_code):\n",
    "        this_features = infos[iso_code][\"Features\"]\n",
    "        max, similar_lang = 0, iso_code\n",
    "        for code in filtered[\"iso_code\"]:\n",
    "            if code != iso_code and code is not np.NAN:               \n",
    "                features = infos[code][\"Features\"]\n",
    "                share_f = np.sum([v == t for k, v in this_features for f, t in features if k==f])\n",
    "                if share_f > max:\n",
    "                    max = share_f\n",
    "                    similar_lang = code, infos[code][\"Name\"]\n",
    "        print(\"Shared features in total:\", max)\n",
    "        sim_score = max/len(features)\n",
    "        return similar_lang, sim_score"
   ]
  },
  {
   "cell_type": "code",
   "execution_count": 74,
   "metadata": {},
   "outputs": [
    {
     "name": "stdout",
     "output_type": "stream",
     "text": [
      "Shared features in total: 107\n"
     ]
    },
    {
     "data": {
      "text/plain": [
       "(('eng', 'English'), 3.4516129032258065)"
      ]
     },
     "execution_count": 74,
     "metadata": {},
     "output_type": "execute_result"
    }
   ],
   "source": [
    "get_most_similar_languages(\"deu\")"
   ]
  },
  {
   "cell_type": "markdown",
   "metadata": {},
   "source": [
    "#### Task 2\n",
    "I don't have very good way to do it. What I did is to get all similarity scores of all language pairs (very computational expensive) and use it to retrive the language pair similarities within a genus and compute on average which language has the largest similarity score to all other languagesin the same genus. <br>\n",
    "So it shows that this method returns plausible results. It returns Russian as the centroid of Slavic languages and German as Germanic languages, for example."
   ]
  },
  {
   "cell_type": "code",
   "execution_count": 152,
   "metadata": {},
   "outputs": [],
   "source": [
    "def get_centroid_lang(genus):\n",
    "    if genus not in set(filtered[\"genus\"].values):\n",
    "        print(\"This genus does not exit in the current data!\")\n",
    "    else: \n",
    "        with open('all_langs_sm_scores.pkl', 'rb') as file: \n",
    "            all_sim_scores = pickle.load(file) \n",
    "        avg_sm_scores = {}\n",
    "        codes_in_genus = filtered[filtered[\"genus\"]==genus][\"iso_code\"]\n",
    "        for lang1 in codes_in_genus:\n",
    "            sm_score_lang1 = []\n",
    "            for lang2 in codes_in_genus:\n",
    "                sm_score = 0\n",
    "                if (lang1, lang2) in all_sim_scores:\n",
    "                    sm_score = all_sim_scores[(lang1, lang2)]\n",
    "                elif (lang2, lang1) in all_sim_scores:\n",
    "                    sm_score = all_sim_scores[(lang2, lang1)]\n",
    "                sm_score_lang1.append(sm_score)\n",
    "            if lang1 not in avg_sm_scores:\n",
    "                avg_sm_scores[lang1] = np.mean(sm_score_lang1)\n",
    "        return max(avg_sm_scores, key=avg_sm_scores.get), avg_sm_scores"
   ]
  },
  {
   "cell_type": "code",
   "execution_count": 153,
   "metadata": {},
   "outputs": [
    {
     "data": {
      "text/plain": [
       "('rus',\n",
       " 'deu',\n",
       " ('cmn',\n",
       "  {nan: 0.0,\n",
       "   'yue': 0.1546875,\n",
       "   'cdo': 0.03020833333333333,\n",
       "   'hak': 0.07708333333333334,\n",
       "   'cmn': 0.2390625,\n",
       "   'wuu': 0.03072916666666666}))"
      ]
     },
     "execution_count": 153,
     "metadata": {},
     "output_type": "execute_result"
    }
   ],
   "source": [
    "get_centroid_lang(\"Slavic\")[0], get_centroid_lang(\"Germanic\")[0], get_centroid_lang(\"Chinese\")"
   ]
  },
  {
   "cell_type": "markdown",
   "metadata": {},
   "source": [
    "#### Task 3\n",
    "In this task, I count the values of each features to extract the least common value of each feature in the data and use these (feature, value) pair to locate the languages that have this exact feature, and in the end count which language shows up most frequently in these rare cases. <br>\n",
    "The result shows that the top 3 languages that have the features with the least common value (rare) that occur less than 10 times (less than 10 languages have this feature and value) across all feature_value pairs. They are [('Wichita', 6), ('Semelai', 4), ('Mandarin', 4)]. In my method, \"Wichita\" has the most (6) rare features, across all rare feature_values, followed by Semelai and Mandarin."
   ]
  },
  {
   "cell_type": "code",
   "execution_count": 129,
   "metadata": {},
   "outputs": [
    {
     "data": {
      "text/plain": [
       "dict_keys([('5A Voicing and Gaps in Plosive Systems', '5 Both missing'), ('7A Glottalized Consonants', '8 Ejectives, implosives, and glottalized resonants'), ('8A Lateral Consonants', '5 No /l/, but lateral obstruents'), ('11A Front Rounded Vowels', '4 Mid only'), ('14A Fixed Stress Locations', '4 Third'), ('15A Weight-Sensitive Stress', '2 Left-oriented: One of the first three'), ('17A Rhythm Types', '3 Dual: both trochaic and iambic'), ('18A Absence of Common Consonants', '6 No fricatives or nasals'), ('19A Presence of Uncommon Consonants', \"6 Clicks, pharyngeals, and 'th'\"), ('20A Fusion of Selected Inflectional Formatives', '4 Tonal/isolating'), ('21A Exponence of Selected Inflectional Formatives', '4 Case + TAM'), ('22A Inflectional Synthesis of the Verb', '7 12-13 categories per word'), ('23A Locus of Marking in the Clause', '5 Other'), ('24A Locus of Marking in Possessive Noun Phrases', '5 Other'), ('25A Locus of Marking: Whole-language Typology', '4 Zero-marking'), ('33A Coding of Nominal Plurality', '4 Plural tone'), ('35A Plurality in Independent Personal Pronouns', '1 No independent subject pronouns'), ('39A Inclusive/Exclusive Distinction in Independent Pronouns', \"1 No 'we'\"), ('40A Inclusive/Exclusive Distinction in Verbal Inflection', '4 Only inclusive'), ('41A Distance Contrasts in Demonstratives', '5 Five (or more)-way contrast'), ('44A Gender Distinctions in Independent Personal Pronouns', '5 3rd person non-singular only'), ('45A Politeness Distinctions in Pronouns', '4 Pronouns avoided for politeness'), ('46A Indefinite Pronouns', '5 Existential construction'), ('49A Number of Cases', '3 3 cases'), ('50A Asymmetrical Case-Marking', '5 Qualitatively asymmetrical'), ('51A Position of Case Affixes', '4 Case stem change'), ('53A Ordinal Numerals', '2 One, two, three'), ('54A Distributive Numerals', '6 Marked by following word'), ('59A Possessive Classification', '4 More than five classes'), ('60A Genitives, Adjectives and Relative Clauses', '3 Genitives and relative clauses collapsed'), ('61A Adjectives without Nouns', '1 Not without noun'), ('62A Action Nominal Constructions', '5 Other'), ('66A The Past Tense', '3 Present, 4 or more remoteness distinctions'), ('68A The Perfect', '1 From possessive'), ('70A The Morphological Imperative', '3 Second plural'), ('78A Coding of Evidentiality', '5 Modal morpheme'), ('80A Verbal Number and Suppletion', '5 Singular-dual-plural triples, suppletion'), ('81A Order of Subject, Object and Verb', '6 OSV'), ('84A Order of Object, Oblique, and Verb', '2 XVO'), ('85A Order of Adposition and Noun Phrase', '3 Inpositions'), ('87A Order of Adjective and Noun', '4 Only internally-headed relative clauses'), ('88A Order of Demonstrative and Noun', '3 Demonstrative prefix'), ('89A Order of Numeral and Noun', '4 Numeral only modifies verb'), ('90A Order of Relative Clause and Noun', '6 Doubly headed'), ('92A Position of Polar Question Particles', '4 Other position'), ('94A Order of Adverbial Subordinator and Clause', '3 Internal subordinator word'), ('96A Relationship between the Order of Object and Verb and the Order of Relative Clause and Noun', '3 VO and RelN'), ('98A Alignment of Case Marking of Full Noun Phrases', '5 Tripartite'), ('99A Alignment of Case Marking of Pronouns', '5 Tripartite'), ('102A Verbal Person Marking', '4 A or P argument'), ('103A Third Person Zero of Verbal Person Marking', '6 Zero only in 3rd nonsingular'), ('109A Applicative Constructions', '6 Non-benefactive object; only transitive'), ('111A Nonperiphrastic Causative Constructions', '3 Compound but no morphological'), ('114A Subtypes of Asymmetric Standard Negation', '4 A/Fin and A/NonReal'), ('116A Polar Questions', '7 No interrogative-declarative distinction'), ('122A Relativization on Subjects', '3 Pronoun-retention'), (\"124A 'Want' Complement Subjects\", '5 Desiderative particle'), ('131A Numeral Bases', '5 Extended body-part system'), ('132A Number of Non-Derived Basic Colour Categories', '4 4.5'), ('133A Number of Basic Colour Categories', '5 8-8.5'), ('134A Green and Blue', '6 Yellow/green vs. blue'), ('135A Red and Yellow', '4 Yellow/green vs. red'), ('136A M-T Pronouns', '3 M-T pronouns, non-paradigmatic'), ('139A Irregular Negatives in Sign Languages', '1 None'), ('140A Question Particles in Sign Languages', '3 More than one'), ('141A Writing Systems', '4 Syllabic'), ('90B Prenominal relative clauses', '5 RelN or double-headed'), ('144Y The Position of Negative Morphemes in Object-Initial Languages', '8 NegOVS/NegSOV'), ('90C Postnominal relative clauses', '4 NRel or correlative'), ('144P NegSOV Order', '2 OptDoubleNeg'), ('144J SVNegO Order', '4 Suffix&OptDoubleNeg'), ('144N Obligatory Double Negation in SOV languages', '1 SONegVNeg'), ('144S SOVNeg Order', '9 Type 5 / Type 4'), ('144X Verb-Initial with Clause-Final Negative', '2 OptDoubleNeg'), ('144A Position of Negative Word With Respect to Subject, Object, and Verb', '17 OptSingleNeg'), ('90G Double-headed relative clauses', '2 Double-headed or RelN'), ('90E Correlative relative clauses', '7 Correlative exists'), ('144V Verb-Initial with Preverbal Negative', '8 Type 3 / Type 6'), ('144I SNegVO Order', '7 Type 1 / Type 2'), ('144R SONegV Order', '7 Type 1 / Type 2'), ('143B Obligatory Double Negation', '15 Type 2 / Type 4'), ('144M Multiple Negative Constructions in SOV Languages', '17 NegSOV/NegOVS'), ('144U Double negation in verb-initial languages', '11 NegVSO&OptStemChange'), ('144G Optional Double Negation in SVO languages', '16 S[V(-Neg)]O & NegV'), ('144B Position of negative words relative to beginning and end of clause and with respect to adjacency to verb', '5 Postverbal, not immed or end'), ('144F Obligatory Double Negation in SVO languages', '3 SVNegONeg'), ('90D Internally-headed relative clauses', '4 Internally-headed or correlative'), ('144E Multiple Negative Constructions in SVO Languages', '20 S[Neg-V]O/SO[Neg-V]'), ('144D The Position of Negative Morphemes in SVO Languages', '10 SOV/SOV but SNegVO'), ('81B Languages with two Dominant Orders of Subject, Object, and Verb', '5 SOV or OVS'), ('143C Optional Double Negation', '13 NegV&OptChangeVerbStem'), ('90F Adjoined relative clauses', '2 Adjoined or correlative'), ('143A Order of Negative Morpheme and Verb', '13 OptSingleNeg'), ('144W Verb-Initial with Negative that is Immediately Postverbal or between Subject and Object', '5 WordBetweenSAndO'), ('144O Optional Double Negation in SOV languages', '19 SV & OV &  (Neg)[V-Neg]'), ('144Q SNegOV Order', '2 OptDoubleNeg'), ('144L The Position of Negative Morphemes in SOV Languages', '13 SVO/SOV but SOVNeg'), ('144H NegSVO Order', '2 OptDoubleNeg'), ('144C Languages with different word order in negative clauses', '10 SVO, but SONeg[V-Neg]/SO[Neg-V-Neg]'), ('144T The Position of Negative Morphemes in Verb-Initial Languages', '13 NegVOS/[Neg-V]OS'), ('143G Minor morphological means of signaling negation', '3 NegStemChange'), ('143D Optional Triple Negation', '2 [V-Neg]Neg&OptNegInfix or Pref'), ('10B Nasal Vowels in West Africa', '5 four-way nasal vs. oral vowel contrast (/ṽ/ vs. /ṽː/ vs. /V/ v /Vː/) with nasal spreading'), ('21B Exponence of Tense-Aspect-Mood Inflection', '4 TAM+agreement+construct'), ('108B Productivity of the Antipassive Construction', '3 not productive'), (\"130B Cultural Categories of Languages with Identity of 'Finger' and 'Hand'\", '3 Full-fledged farmers'), ('58B Number of Possessive Nouns', '4 Five or more'), ('79B Suppletion in Imperatives and Hortatives', '4 Imperative and Hortative')])"
      ]
     },
     "execution_count": 129,
     "metadata": {},
     "output_type": "execute_result"
    }
   ],
   "source": [
    "from collections import Counter\n",
    "f_v_langs = {}\n",
    "for f in features:\n",
    "    least_common = Counter(filtered[f].values).most_common()[-1]\n",
    "    if least_common[1] < 10:\n",
    "        rare_v = least_common[0]\n",
    "        rare_v_langs = filtered[filtered[f]==rare_v]['Name'].to_list()\n",
    "        if (f, rare_v) not in f_v_langs:\n",
    "            f_v_langs[(f, rare_v)] = rare_v_langs\n",
    "\n",
    "f_v_langs.keys()"
   ]
  },
  {
   "cell_type": "code",
   "execution_count": 132,
   "metadata": {},
   "outputs": [
    {
     "data": {
      "text/plain": [
       "[('Wichita', 6), ('Semelai', 4), ('Mandarin', 4)]"
      ]
     },
     "execution_count": 132,
     "metadata": {},
     "output_type": "execute_result"
    }
   ],
   "source": [
    "l = []\n",
    "for v in f_v_langs.values():\n",
    "    l += v\n",
    "Counter(l).most_common(3)"
   ]
  }
 ],
 "metadata": {
  "kernelspec": {
   "display_name": "Python 3",
   "language": "python",
   "name": "python3"
  },
  "language_info": {
   "codemirror_mode": {
    "name": "ipython",
    "version": 3
   },
   "file_extension": ".py",
   "mimetype": "text/x-python",
   "name": "python",
   "nbconvert_exporter": "python",
   "pygments_lexer": "ipython3",
   "version": "3.11.6"
  }
 },
 "nbformat": 4,
 "nbformat_minor": 2
}
