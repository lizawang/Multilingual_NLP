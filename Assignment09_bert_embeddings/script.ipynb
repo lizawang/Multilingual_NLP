{
 "cells": [
  {
   "cell_type": "markdown",
   "metadata": {},
   "source": [
    "### Prepare Data"
   ]
  },
  {
   "cell_type": "markdown",
   "metadata": {},
   "source": [
    "##### First is to get word bert embedding \n",
    "\n",
    "- I did a little different from what the provided script does. I collected each sentence (words in a list) and got the bert embedding of each sentence from which I extracted all the subword embedding of the word in the sentence and used their mean.\n",
    "- In order to make this possible, additionally I extracted the word span (from which subword to which subword of the sentence represents each word) of each word after passing tokenizer using the function called *word_to_tokens* and saved it for later to get word embedding from the sentence output of bert model.\n",
    "\n"
   ]
  },
  {
   "cell_type": "markdown",
   "metadata": {},
   "source": [
    "The following function *get_sent_words_ids_and_spans* is to get sentence input ids and word spans in the sentence."
   ]
  },
  {
   "cell_type": "code",
   "execution_count": 4,
   "metadata": {},
   "outputs": [],
   "source": [
    "from transformers import AutoModel, AutoTokenizer\n",
    "import torch\n",
    "\n",
    "modelName_mono = \"bert-base-uncased\"\n",
    "modelName_multi = \"bert-base-multilingual-uncased\"\n",
    "# Some valid options:\n",
    "# bert-base-uncased\n",
    "# bert-base-cased\n",
    "# bert-large-cased\n",
    "# bert-base-multilingual-uncased\n",
    "# bert-base-multilingual-cased\n",
    "\n",
    "tokenizer_mono = AutoTokenizer.from_pretrained(modelName_mono)\n",
    "model_mono = AutoModel.from_pretrained(modelName_mono)\n",
    "\n",
    "def get_sent_words_ids_and_spans(sent, tokenizer=tokenizer_mono):\n",
    "    tokenized = tokenizer(sent, return_tensors=\"pt\",\n",
    "                return_token_type_ids=False, return_attention_mask=True, is_split_into_words=True, add_special_tokens=False)\n",
    "    input_ids, attention_mask = tokenized[\"input_ids\"], tokenized[\"attention_mask\"]\n",
    "    tokens = tokenizer_mono.convert_ids_to_tokens(input_ids[0])\n",
    "    #print(\"Subwords:\", \"len:\", len(tokens), tokens)\n",
    "    #print(\"subwords ids:\", input_ids)\n",
    "    #print(\"Input_ids:\", input_ids.shape)\n",
    "    ### not word_spans can't be a dictionary as there can be repeated word in a sentence, e.g. \"the\"\n",
    "    word_spans = []\n",
    "    for index in set(tokenized.word_ids()):\n",
    "        start, end = tokenized.word_to_tokens(index)\n",
    "        start, end = start+1, end+1\n",
    "        word_spans.append((sent[index], start, end))\n",
    "        #print(sent[index], start, end)\n",
    "    \n",
    "    # word_index = 0\n",
    "    # i = 1\n",
    "    # span_s, span_e = 1, 1\n",
    "    #print(\"Words:\", sent, len(sent))\n",
    "    # for i in range(1, len(tokens)):\n",
    "    #     if tokens[i].startswith(\"##\"):\n",
    "    #         print(\"span\", tokens[i])\n",
    "    #         span_e += 1\n",
    "        # elif i+1 < len(tokens) and i-1>0 and tokens[i+1].startswith(\"##\") and not tokens[i-1].startswith(\"##\"):\n",
    "        #     print(\"span:\", tokens[i])\n",
    "        #     span_e += 1\n",
    "        # else:\n",
    "        #     print(i)\n",
    "        #     print(\"prev subword:\", tokens[i-1])\n",
    "        #     print(\"currt subword:\", tokens[i])\n",
    "        #     print(\"before:\", span_s, span_e)\n",
    "        #     if word_index < len(sent):\n",
    "        #         if span_s == span_e:\n",
    "        #             span_e += 1\n",
    "        #         print(\"word:\", sent[word_index])\n",
    "        #         print(\"after:\", span_s, span_e)\n",
    "        #         print(\"word index\", word_index)\n",
    "        #         print()\n",
    "        #         word_spans.append((sent[word_index], span_s, span_e))\n",
    "        #         word_index += 1\n",
    "        #         span_s = span_e \n",
    "    return input_ids, attention_mask, word_spans"
   ]
  },
  {
   "cell_type": "markdown",
   "metadata": {},
   "source": [
    "An one sentence example to illustrate"
   ]
  },
  {
   "cell_type": "code",
   "execution_count": 14,
   "metadata": {},
   "outputs": [
    {
     "name": "stdout",
     "output_type": "stream",
     "text": [
      "Subwords: len: 9 ['a', 'pl', '##at', '##yp', '##us', 'is', 'a', 'mammal', '.']\n",
      "subwords ids: tensor([[ 1037, 20228,  4017, 22571,  2271,  2003,  1037, 25476,  1012]])\n",
      "\n",
      "Word spans:\n",
      "6 6\n",
      "['A', 'platypus', 'is', 'a', 'mammal', '.']\n"
     ]
    },
    {
     "data": {
      "text/plain": [
       "[('A', 1, 2),\n",
       " ('platypus', 2, 6),\n",
       " ('is', 6, 7),\n",
       " ('a', 7, 8),\n",
       " ('mammal', 8, 9),\n",
       " ('.', 9, 10)]"
      ]
     },
     "execution_count": 14,
     "metadata": {},
     "output_type": "execute_result"
    }
   ],
   "source": [
    "sent = \"A platypus is a mammal.\"\n",
    "#sent = \"But in a break from his past rhetoric about curtailing immigration , the GOP nominee proclaimed that as president he would allow “ tremendous numbers ” of legal immigrants based on a “ merit system . \"\n",
    "#sent = \"“ While much of the digital transition is unprecedented in the United States , the peaceful transition of power is not , ” Obama special assistant Kori Schulman wrote in a blog post Monday .\"\n",
    "#sent = \"For those who follow social media transitions on Capitol Hill, this will be a little different.\"\n",
    "for s in sent:\n",
    "    if s in [\",\", \".\", \"!\", \"?\"]:\n",
    "        sent = sent.replace(s, \" \"+s)\n",
    "sent = sent.split()\n",
    "input_ids, attention_mask, word_spans = get_sent_words_ids_and_spans(sent)\n",
    "print()\n",
    "print(\"Word spans:\")\n",
    "print(len(word_spans), len(sent))\n",
    "print(sent)\n",
    "word_spans"
   ]
  },
  {
   "cell_type": "markdown",
   "metadata": {},
   "source": [
    "And this function is to feed the sentence subword ids into model, and use word spans extract the word embedding from the sentence embedding (the output of the model). Save all word embeddings of the sentence into a list."
   ]
  },
  {
   "cell_type": "code",
   "execution_count": 5,
   "metadata": {},
   "outputs": [],
   "source": [
    "def get_word_embeddings(input_ids, attention_mask, word_spans, model=model_mono): \n",
    "    word_embeds = []\n",
    "    with torch.no_grad():\n",
    "        outputs = model(input_ids, attention_mask=attention_mask)\n",
    "        sent_embeddings = outputs.last_hidden_state\n",
    "        #print(sent_embeddings.shape)\n",
    "        #print(sent_embeddings)\n",
    "        for word, i, j in word_spans:\n",
    "            #print(word)\n",
    "            ## get the embeddings of each word in the sentence\n",
    "            word_embed = sent_embeddings[:, i:j, :]\n",
    "            ## word embedding is the mean of all its subwords\n",
    "            word_embed = torch.mean(word_embed, dim=1)\n",
    "            ## somehow torch returns \"NaN\" value instead of just 0.0\n",
    "            word_embed = torch.nan_to_num(word_embed)\n",
    "            word_embeds.append(word_embed[0].tolist())\n",
    "    return word_embeds"
   ]
  },
  {
   "cell_type": "markdown",
   "metadata": {},
   "source": [
    "To print out some outputs for illustration.\n",
    "\n",
    "So each word is a vector of 768 numbers."
   ]
  },
  {
   "cell_type": "code",
   "execution_count": null,
   "metadata": {},
   "outputs": [],
   "source": [
    "example = get_word_embeddings(input_ids, attention_mask, word_spans)"
   ]
  },
  {
   "cell_type": "markdown",
   "metadata": {},
   "source": [
    "##### Finally we will get the word embeddings and pair them with their UPOS tags as data for MLP classifer training later."
   ]
  },
  {
   "cell_type": "code",
   "execution_count": 6,
   "metadata": {},
   "outputs": [],
   "source": [
    "\n",
    "source, target = \"en_pud-ud-test.conllu\", \"zh_pud-ud-test.conllu\"\n",
    "\n",
    "ID = 0\n",
    "FORM = 1\n",
    "LEMMA = 2\n",
    "UPOS = 3\n",
    "XPOS = 4\n",
    "FEATS = 5\n",
    "HEAD = 6\n",
    "DEPREL = 7\n",
    "\n",
    "def prepare_data(model=model_mono, tokenizer=tokenizer_mono, filename=source):\n",
    "    all_word_embeds, all_tags = [], []\n",
    "    with open(filename, \"r\", encoding=\"utf-8\") as f:\n",
    "        words = []\n",
    "        tags = []\n",
    "        for line in f:\n",
    "            if line == '\\n':\n",
    "                # end of sentence\n",
    "                input_ids, attn_mask, word_spans = get_sent_words_ids_and_spans(sent=words, tokenizer=tokenizer)\n",
    "                word_embeds = get_word_embeddings(input_ids, attn_mask, word_spans, model)\n",
    "                #print(len(words), len(word_embeds), len(tags))\n",
    "                if len(words) != len(word_embeds):\n",
    "                    print(\" \".join(words))\n",
    "                all_word_embeds.append(word_embeds)\n",
    "                all_tags.append(tags)\n",
    "                words = []\n",
    "                tags = []\n",
    "            elif line.startswith('#'):\n",
    "                continue\n",
    "            else:\n",
    "                fields = line.split('\\t')\n",
    "                if fields[ID].isdigit():\n",
    "                    # standard token\n",
    "                    words.append(fields[FORM])\n",
    "                    tags.append(fields[UPOS])\n",
    "        return all_word_embeds, all_tags"
   ]
  },
  {
   "cell_type": "code",
   "execution_count": 22,
   "metadata": {},
   "outputs": [],
   "source": [
    "en_data = prepare_data()"
   ]
  },
  {
   "cell_type": "code",
   "execution_count": 23,
   "metadata": {},
   "outputs": [],
   "source": [
    "zh_data = prepare_data(filename=target)"
   ]
  },
  {
   "cell_type": "code",
   "execution_count": 24,
   "metadata": {},
   "outputs": [
    {
     "data": {
      "text/plain": [
       "float"
      ]
     },
     "execution_count": 24,
     "metadata": {},
     "output_type": "execute_result"
    }
   ],
   "source": [
    "type(zh_data[0][0][0][0])"
   ]
  },
  {
   "cell_type": "markdown",
   "metadata": {},
   "source": [
    "### Train the model"
   ]
  },
  {
   "cell_type": "code",
   "execution_count": 25,
   "metadata": {},
   "outputs": [],
   "source": [
    "en_embeddings, en_tags = [w for s in en_data[0] for w in s], [t for s in en_data[1] for t in s]\n",
    "zh_embeddings, zh_tags = [w for s in zh_data[0] for w in s], [t for s in zh_data[1] for t in s]"
   ]
  },
  {
   "cell_type": "code",
   "execution_count": 33,
   "metadata": {},
   "outputs": [],
   "source": [
    "## saving the embeddings\n",
    "with open(\"zh_pud.bert\", \"w\", encoding=\"utf-8\") as f:\n",
    "    for i in range(len(zh_embeddings)):\n",
    "        print(zh_tags[i], *zh_embeddings[i], sep=\"\\t\", file=f)"
   ]
  },
  {
   "cell_type": "code",
   "execution_count": 26,
   "metadata": {},
   "outputs": [
    {
     "data": {
      "text/plain": [
       "(True, 21176, 21176)"
      ]
     },
     "execution_count": 26,
     "metadata": {},
     "output_type": "execute_result"
    }
   ],
   "source": [
    "len(en_embeddings) == len(en_tags), len(en_tags), len(en_embeddings)"
   ]
  },
  {
   "cell_type": "code",
   "execution_count": 38,
   "metadata": {},
   "outputs": [],
   "source": [
    "from sklearn.neural_network import MLPClassifier\n",
    "from sklearn.model_selection import train_test_split\n",
    "## this is a copy of train_mlp.py\n",
    "def train_mlp(embeddings, tags, name=\"en_mlp_bert\"):\n",
    "    # Split into train and test\n",
    "    embeddings_train, embeddings_test, tags_train, tags_test = train_test_split(embeddings, tags)\n",
    "\n",
    "    # Train a classifier\n",
    "    classifier = MLPClassifier(verbose=True)\n",
    "    classifier.fit(embeddings_train, tags_train)\n",
    "\n",
    "    # Evaluate the classifier\n",
    "    score_train = classifier.score(embeddings_train, tags_train)\n",
    "    score_test  = classifier.score(embeddings_test, tags_test)\n",
    "    print('Training score:', score_train)\n",
    "    print('Test score:', score_test)\n",
    "\n",
    "    # Save the model\n",
    "    import pickle\n",
    "    pickle.dump(classifier, open(f\"{name}.model\", 'wb'))\n",
    "    return classifier"
   ]
  },
  {
   "cell_type": "markdown",
   "metadata": {},
   "source": [
    "##### Train with embeddings from pretrained monolingual BERT."
   ]
  },
  {
   "cell_type": "markdown",
   "metadata": {},
   "source": [
    "EN: <br>\n",
    "Training score: 1.0 <br>\n",
    "Test score: 0.7083490744238761"
   ]
  },
  {
   "cell_type": "code",
   "execution_count": 39,
   "metadata": {},
   "outputs": [
    {
     "name": "stdout",
     "output_type": "stream",
     "text": [
      "Iteration 1, loss = 2.02892965\n",
      "Iteration 2, loss = 1.34202194\n",
      "Iteration 3, loss = 1.05717733\n",
      "Iteration 4, loss = 0.89092834\n",
      "Iteration 5, loss = 0.77278894\n",
      "Iteration 6, loss = 0.68720483\n",
      "Iteration 7, loss = 0.62339672\n",
      "Iteration 8, loss = 0.57757470\n",
      "Iteration 9, loss = 0.53597299\n",
      "Iteration 10, loss = 0.49261537\n",
      "Iteration 11, loss = 0.46263466\n",
      "Iteration 12, loss = 0.42792633\n",
      "Iteration 13, loss = 0.39668521\n",
      "Iteration 14, loss = 0.36874044\n",
      "Iteration 15, loss = 0.34642744\n",
      "Iteration 16, loss = 0.32270986\n",
      "Iteration 17, loss = 0.30043696\n",
      "Iteration 18, loss = 0.28131644\n",
      "Iteration 19, loss = 0.26334616\n",
      "Iteration 20, loss = 0.24239579\n",
      "Iteration 21, loss = 0.22535533\n",
      "Iteration 22, loss = 0.20816411\n",
      "Iteration 23, loss = 0.19705617\n",
      "Iteration 24, loss = 0.17871164\n",
      "Iteration 25, loss = 0.16847397\n",
      "Iteration 26, loss = 0.15208206\n",
      "Iteration 27, loss = 0.14458774\n",
      "Iteration 28, loss = 0.13031535\n",
      "Iteration 29, loss = 0.12239279\n",
      "Iteration 30, loss = 0.11126955\n",
      "Iteration 31, loss = 0.10501562\n",
      "Iteration 32, loss = 0.09615450\n",
      "Iteration 33, loss = 0.09026648\n",
      "Iteration 34, loss = 0.08329210\n",
      "Iteration 35, loss = 0.07505120\n",
      "Iteration 36, loss = 0.06979531\n",
      "Iteration 37, loss = 0.06465177\n",
      "Iteration 38, loss = 0.05971051\n",
      "Iteration 39, loss = 0.05499837\n",
      "Iteration 40, loss = 0.05055961\n",
      "Iteration 41, loss = 0.04719853\n",
      "Iteration 42, loss = 0.04433243\n",
      "Iteration 43, loss = 0.04125666\n",
      "Iteration 44, loss = 0.03712764\n",
      "Iteration 45, loss = 0.03494428\n",
      "Iteration 46, loss = 0.03311072\n",
      "Iteration 47, loss = 0.03030448\n",
      "Iteration 48, loss = 0.02847545\n",
      "Iteration 49, loss = 0.02638194\n",
      "Iteration 50, loss = 0.02491347\n",
      "Iteration 51, loss = 0.02271442\n",
      "Iteration 52, loss = 0.02189323\n",
      "Iteration 53, loss = 0.02022272\n",
      "Iteration 54, loss = 0.01935639\n",
      "Iteration 55, loss = 0.01754504\n",
      "Iteration 56, loss = 0.01712739\n",
      "Iteration 57, loss = 0.01597267\n",
      "Iteration 58, loss = 0.01476578\n",
      "Iteration 59, loss = 0.01411459\n",
      "Iteration 60, loss = 0.01326556\n",
      "Iteration 61, loss = 0.01226671\n",
      "Iteration 62, loss = 0.01174703\n",
      "Iteration 63, loss = 0.01123462\n",
      "Iteration 64, loss = 0.01048065\n",
      "Iteration 65, loss = 0.01048631\n",
      "Iteration 66, loss = 0.00960814\n",
      "Iteration 67, loss = 0.00875792\n",
      "Iteration 68, loss = 0.00834157\n",
      "Iteration 69, loss = 0.00795632\n",
      "Iteration 70, loss = 0.00756149\n",
      "Iteration 71, loss = 0.00715012\n",
      "Iteration 72, loss = 0.00697608\n",
      "Iteration 73, loss = 0.00648601\n",
      "Iteration 74, loss = 0.00620411\n",
      "Iteration 75, loss = 0.00587191\n",
      "Iteration 76, loss = 0.00568526\n",
      "Iteration 77, loss = 0.00540315\n",
      "Iteration 78, loss = 0.00538042\n",
      "Iteration 79, loss = 0.00493630\n",
      "Iteration 80, loss = 0.00464234\n",
      "Iteration 81, loss = 0.00444824\n",
      "Iteration 82, loss = 0.00425896\n",
      "Iteration 83, loss = 0.00403833\n",
      "Iteration 84, loss = 0.00387824\n",
      "Iteration 85, loss = 0.00373699\n",
      "Iteration 86, loss = 0.00355163\n",
      "Iteration 87, loss = 0.00344221\n",
      "Iteration 88, loss = 0.00427682\n",
      "Iteration 89, loss = 0.00424201\n",
      "Iteration 90, loss = 0.00364235\n",
      "Iteration 91, loss = 0.00298253\n",
      "Iteration 92, loss = 0.00278400\n",
      "Iteration 93, loss = 0.00266489\n",
      "Iteration 94, loss = 0.00255541\n",
      "Iteration 95, loss = 0.00244149\n",
      "Iteration 96, loss = 0.00235902\n",
      "Iteration 97, loss = 0.00227765\n",
      "Iteration 98, loss = 0.00220503\n",
      "Iteration 99, loss = 0.00214154\n",
      "Iteration 100, loss = 0.00205433\n",
      "Iteration 101, loss = 0.00197299\n",
      "Iteration 102, loss = 0.00195386\n",
      "Iteration 103, loss = 0.03381488\n",
      "Iteration 104, loss = 0.14388966\n",
      "Iteration 105, loss = 0.03469699\n",
      "Iteration 106, loss = 0.00823102\n",
      "Training loss did not improve more than tol=0.000100 for 10 consecutive epochs. Stopping.\n",
      "Training score: 1.0\n",
      "Test score: 0.7108046845485455\n"
     ]
    }
   ],
   "source": [
    "classifier_en = train_mlp(en_embeddings, en_tags)"
   ]
  },
  {
   "cell_type": "markdown",
   "metadata": {},
   "source": [
    "ZH: <br>\n",
    "Training score: 0.8280306332108835 <br>\n",
    "Test score: 0.5089652596189764"
   ]
  },
  {
   "cell_type": "code",
   "execution_count": 40,
   "metadata": {},
   "outputs": [
    {
     "name": "stdout",
     "output_type": "stream",
     "text": [
      "Iteration 1, loss = 2.22141623\n",
      "Iteration 2, loss = 1.96835295\n",
      "Iteration 3, loss = 1.79074983\n",
      "Iteration 4, loss = 1.68530421\n",
      "Iteration 5, loss = 1.61468521\n",
      "Iteration 6, loss = 1.57144738\n",
      "Iteration 7, loss = 1.53015333\n",
      "Iteration 8, loss = 1.49521472\n",
      "Iteration 9, loss = 1.47302468\n",
      "Iteration 10, loss = 1.44944163\n",
      "Iteration 11, loss = 1.42343265\n",
      "Iteration 12, loss = 1.40225318\n",
      "Iteration 13, loss = 1.38153233\n",
      "Iteration 14, loss = 1.35998540\n",
      "Iteration 15, loss = 1.34627407\n",
      "Iteration 16, loss = 1.33042853\n",
      "Iteration 17, loss = 1.31269609\n",
      "Iteration 18, loss = 1.30076928\n",
      "Iteration 19, loss = 1.29428144\n",
      "Iteration 20, loss = 1.28227003\n",
      "Iteration 21, loss = 1.26511574\n",
      "Iteration 22, loss = 1.25699219\n",
      "Iteration 23, loss = 1.24230846\n",
      "Iteration 24, loss = 1.24115653\n",
      "Iteration 25, loss = 1.22263450\n",
      "Iteration 26, loss = 1.21282847\n",
      "Iteration 27, loss = 1.20291557\n",
      "Iteration 28, loss = 1.19812045\n",
      "Iteration 29, loss = 1.18630005\n",
      "Iteration 30, loss = 1.17763329\n",
      "Iteration 31, loss = 1.16715650\n",
      "Iteration 32, loss = 1.15649653\n",
      "Iteration 33, loss = 1.15159297\n",
      "Iteration 34, loss = 1.15090354\n",
      "Iteration 35, loss = 1.14303616\n",
      "Iteration 36, loss = 1.13742446\n",
      "Iteration 37, loss = 1.12316017\n",
      "Iteration 38, loss = 1.11942921\n",
      "Iteration 39, loss = 1.10303229\n",
      "Iteration 40, loss = 1.10128336\n",
      "Iteration 41, loss = 1.09766697\n",
      "Iteration 42, loss = 1.08825042\n",
      "Iteration 43, loss = 1.08012794\n",
      "Iteration 44, loss = 1.07077683\n",
      "Iteration 45, loss = 1.06629401\n",
      "Iteration 46, loss = 1.06910724\n",
      "Iteration 47, loss = 1.05709952\n",
      "Iteration 48, loss = 1.05056782\n",
      "Iteration 49, loss = 1.04924873\n",
      "Iteration 50, loss = 1.03733055\n",
      "Iteration 51, loss = 1.02968967\n",
      "Iteration 52, loss = 1.03751785\n",
      "Iteration 53, loss = 1.01908321\n",
      "Iteration 54, loss = 1.01582323\n",
      "Iteration 55, loss = 1.01454524\n",
      "Iteration 56, loss = 1.00209694\n",
      "Iteration 57, loss = 1.00430537\n",
      "Iteration 58, loss = 0.99707722\n",
      "Iteration 59, loss = 0.99075335\n",
      "Iteration 60, loss = 0.98712329\n",
      "Iteration 61, loss = 0.97643147\n",
      "Iteration 62, loss = 0.96990510\n",
      "Iteration 63, loss = 0.97091975\n",
      "Iteration 64, loss = 0.96636144\n",
      "Iteration 65, loss = 0.96371158\n",
      "Iteration 66, loss = 0.95427855\n",
      "Iteration 67, loss = 0.95471221\n",
      "Iteration 68, loss = 0.94345078\n",
      "Iteration 69, loss = 0.94059741\n",
      "Iteration 70, loss = 0.93195461\n",
      "Iteration 71, loss = 0.93129632\n",
      "Iteration 72, loss = 0.92702222\n",
      "Iteration 73, loss = 0.92391526\n",
      "Iteration 74, loss = 0.91873070\n",
      "Iteration 75, loss = 0.91915249\n",
      "Iteration 76, loss = 0.91067512\n",
      "Iteration 77, loss = 0.89915227\n",
      "Iteration 78, loss = 0.89366701\n",
      "Iteration 79, loss = 0.89189705\n",
      "Iteration 80, loss = 0.88564558\n",
      "Iteration 81, loss = 0.88748182\n",
      "Iteration 82, loss = 0.87906078\n",
      "Iteration 83, loss = 0.87504820\n",
      "Iteration 84, loss = 0.87280164\n",
      "Iteration 85, loss = 0.86935066\n",
      "Iteration 86, loss = 0.86256895\n",
      "Iteration 87, loss = 0.86017648\n",
      "Iteration 88, loss = 0.85699335\n",
      "Iteration 89, loss = 0.85040979\n",
      "Iteration 90, loss = 0.85445383\n",
      "Iteration 91, loss = 0.85136090\n",
      "Iteration 92, loss = 0.84320336\n",
      "Iteration 93, loss = 0.84419753\n",
      "Iteration 94, loss = 0.84308188\n",
      "Iteration 95, loss = 0.83292724\n",
      "Iteration 96, loss = 0.82380878\n",
      "Iteration 97, loss = 0.81632217\n",
      "Iteration 98, loss = 0.81354587\n",
      "Iteration 99, loss = 0.80588915\n",
      "Iteration 100, loss = 0.80908734\n",
      "Iteration 101, loss = 0.81302310\n",
      "Iteration 102, loss = 0.80230572\n",
      "Iteration 103, loss = 0.79490922\n",
      "Iteration 104, loss = 0.79982410\n",
      "Iteration 105, loss = 0.79535225\n",
      "Iteration 106, loss = 0.79060131\n",
      "Iteration 107, loss = 0.78345506\n",
      "Iteration 108, loss = 0.79163067\n",
      "Iteration 109, loss = 0.78540218\n",
      "Iteration 110, loss = 0.77718258\n",
      "Iteration 111, loss = 0.76920543\n",
      "Iteration 112, loss = 0.78301027\n",
      "Iteration 113, loss = 0.76551816\n",
      "Iteration 114, loss = 0.76454382\n",
      "Iteration 115, loss = 0.76074539\n",
      "Iteration 116, loss = 0.75732508\n",
      "Iteration 117, loss = 0.74947264\n",
      "Iteration 118, loss = 0.74705927\n",
      "Iteration 119, loss = 0.74431733\n",
      "Iteration 120, loss = 0.75752191\n",
      "Iteration 121, loss = 0.74745154\n",
      "Iteration 122, loss = 0.73675851\n",
      "Iteration 123, loss = 0.74195030\n",
      "Iteration 124, loss = 0.73176301\n",
      "Iteration 125, loss = 0.73436930\n",
      "Iteration 126, loss = 0.73403327\n",
      "Iteration 127, loss = 0.72494590\n",
      "Iteration 128, loss = 0.71903308\n",
      "Iteration 129, loss = 0.72598814\n",
      "Iteration 130, loss = 0.72223346\n",
      "Iteration 131, loss = 0.70455911\n",
      "Iteration 132, loss = 0.71111638\n",
      "Iteration 133, loss = 0.70565981\n",
      "Iteration 134, loss = 0.70218247\n",
      "Iteration 135, loss = 0.70366829\n",
      "Iteration 136, loss = 0.70524271\n",
      "Iteration 137, loss = 0.69420507\n",
      "Iteration 138, loss = 0.69293689\n",
      "Iteration 139, loss = 0.68591897\n",
      "Iteration 140, loss = 0.69542340\n",
      "Iteration 141, loss = 0.67540500\n",
      "Iteration 142, loss = 0.69330840\n",
      "Iteration 143, loss = 0.67231918\n",
      "Iteration 144, loss = 0.67733329\n",
      "Iteration 145, loss = 0.66992745\n",
      "Iteration 146, loss = 0.68020164\n",
      "Iteration 147, loss = 0.67182601\n",
      "Iteration 148, loss = 0.67368669\n",
      "Iteration 149, loss = 0.65935371\n",
      "Iteration 150, loss = 0.65819529\n",
      "Iteration 151, loss = 0.67036109\n",
      "Iteration 152, loss = 0.64614524\n",
      "Iteration 153, loss = 0.65441059\n",
      "Iteration 154, loss = 0.65809730\n",
      "Iteration 155, loss = 0.64118515\n",
      "Iteration 156, loss = 0.64978563\n",
      "Iteration 157, loss = 0.64365434\n",
      "Iteration 158, loss = 0.63849154\n",
      "Iteration 159, loss = 0.64090733\n",
      "Iteration 160, loss = 0.62833094\n",
      "Iteration 161, loss = 0.63244219\n",
      "Iteration 162, loss = 0.62998725\n",
      "Iteration 163, loss = 0.62824802\n",
      "Iteration 164, loss = 0.62944484\n",
      "Iteration 165, loss = 0.62949510\n",
      "Iteration 166, loss = 0.62509896\n",
      "Iteration 167, loss = 0.61229673\n",
      "Iteration 168, loss = 0.62417993\n",
      "Iteration 169, loss = 0.61359909\n",
      "Iteration 170, loss = 0.60704949\n",
      "Iteration 171, loss = 0.60354222\n",
      "Iteration 172, loss = 0.61401574\n",
      "Iteration 173, loss = 0.60394044\n",
      "Iteration 174, loss = 0.60600860\n",
      "Iteration 175, loss = 0.59655429\n",
      "Iteration 176, loss = 0.59602100\n",
      "Iteration 177, loss = 0.59939237\n",
      "Iteration 178, loss = 0.59619044\n",
      "Iteration 179, loss = 0.59863671\n",
      "Iteration 180, loss = 0.58911006\n",
      "Iteration 181, loss = 0.59946283\n",
      "Iteration 182, loss = 0.57458062\n",
      "Iteration 183, loss = 0.57543650\n",
      "Iteration 184, loss = 0.58162562\n",
      "Iteration 185, loss = 0.58221786\n",
      "Iteration 186, loss = 0.57645430\n",
      "Iteration 187, loss = 0.57143205\n",
      "Iteration 188, loss = 0.57173264\n",
      "Iteration 189, loss = 0.56149324\n",
      "Iteration 190, loss = 0.57633035\n",
      "Iteration 191, loss = 0.56410179\n",
      "Iteration 192, loss = 0.55604990\n",
      "Iteration 193, loss = 0.56129688\n",
      "Iteration 194, loss = 0.55092540\n",
      "Iteration 195, loss = 0.55020508\n",
      "Iteration 196, loss = 0.56518062\n",
      "Iteration 197, loss = 0.56026959\n",
      "Iteration 198, loss = 0.54657779\n",
      "Iteration 199, loss = 0.54173373\n",
      "Iteration 200, loss = 0.54487716\n"
     ]
    },
    {
     "name": "stderr",
     "output_type": "stream",
     "text": [
      "c:\\Users\\lisa\\AppData\\Local\\Programs\\Python\\Python311\\Lib\\site-packages\\sklearn\\neural_network\\_multilayer_perceptron.py:691: ConvergenceWarning: Stochastic Optimizer: Maximum iterations (200) reached and the optimization hasn't converged yet.\n",
      "  warnings.warn(\n"
     ]
    },
    {
     "name": "stdout",
     "output_type": "stream",
     "text": [
      "Training score: 0.827096693854679\n",
      "Test score: 0.5033619723571162\n"
     ]
    }
   ],
   "source": [
    "classifier_zh = train_mlp(zh_embeddings, zh_tags, \"zh_mlp_bert\")"
   ]
  },
  {
   "cell_type": "markdown",
   "metadata": {},
   "source": [
    "#### Train with word embeddings from multilingual BERT.\n",
    "\n",
    "- We can see that with multilingual embeddings for the words, the accuracy for development set is higher than with mono-lingual word embeddings. It's particularly better on zh (Mandarin) word tagging."
   ]
  },
  {
   "cell_type": "code",
   "execution_count": 8,
   "metadata": {},
   "outputs": [
    {
     "name": "stderr",
     "output_type": "stream",
     "text": [
      "model.safetensors: 100%|██████████| 672M/672M [01:02<00:00, 10.8MB/s] \n"
     ]
    }
   ],
   "source": [
    "tokenizer_multi = AutoTokenizer.from_pretrained(modelName_multi)\n",
    "model_multi = AutoModel.from_pretrained(modelName_multi)"
   ]
  },
  {
   "cell_type": "code",
   "execution_count": 15,
   "metadata": {},
   "outputs": [],
   "source": [
    "en_data_multi = prepare_data(model=model_multi, tokenizer=tokenizer_multi, filename=source)\n",
    "zh_data_multi = prepare_data(model=model_multi, tokenizer=tokenizer_multi, filename=target)\n"
   ]
  },
  {
   "cell_type": "code",
   "execution_count": 18,
   "metadata": {},
   "outputs": [],
   "source": [
    "en_embeddings_multi, en_tags_multi = [w for s in en_data_multi[0] for w in s], [t for s in en_data_multi[1] for t in s]\n",
    "zh_embeddings_multi, zh_tags_multi = [w for s in zh_data_multi[0] for w in s], [t for s in zh_data_multi[1] for t in s]"
   ]
  },
  {
   "cell_type": "code",
   "execution_count": 35,
   "metadata": {},
   "outputs": [],
   "source": [
    "with open(\"en_pud.mbert\", \"w\", encoding=\"utf-8\") as f:\n",
    "    for i in range(len(en_embeddings_multi)):\n",
    "        print(en_tags_multi[i], *en_embeddings_multi[i], sep=\"\\t\", file=f)"
   ]
  },
  {
   "cell_type": "markdown",
   "metadata": {},
   "source": [
    "EN: <br>\n",
    "Training score: 1.0 <br>\n",
    "Test score: 0.8192293162070268"
   ]
  },
  {
   "cell_type": "code",
   "execution_count": 41,
   "metadata": {},
   "outputs": [
    {
     "name": "stdout",
     "output_type": "stream",
     "text": [
      "Iteration 1, loss = 1.58806717\n",
      "Iteration 2, loss = 0.88078622\n",
      "Iteration 3, loss = 0.67668218\n",
      "Iteration 4, loss = 0.55691570\n",
      "Iteration 5, loss = 0.48106512\n",
      "Iteration 6, loss = 0.42478240\n",
      "Iteration 7, loss = 0.38715643\n",
      "Iteration 8, loss = 0.34752500\n",
      "Iteration 9, loss = 0.32296017\n",
      "Iteration 10, loss = 0.29551995\n",
      "Iteration 11, loss = 0.27126419\n",
      "Iteration 12, loss = 0.25346888\n",
      "Iteration 13, loss = 0.23190585\n",
      "Iteration 14, loss = 0.21636442\n",
      "Iteration 15, loss = 0.19811077\n",
      "Iteration 16, loss = 0.18602516\n",
      "Iteration 17, loss = 0.17104799\n",
      "Iteration 18, loss = 0.15982360\n",
      "Iteration 19, loss = 0.14707852\n",
      "Iteration 20, loss = 0.13375349\n",
      "Iteration 21, loss = 0.12126344\n",
      "Iteration 22, loss = 0.11251577\n",
      "Iteration 23, loss = 0.10410979\n",
      "Iteration 24, loss = 0.09529039\n",
      "Iteration 25, loss = 0.08764029\n",
      "Iteration 26, loss = 0.08186889\n",
      "Iteration 27, loss = 0.07536227\n",
      "Iteration 28, loss = 0.06865053\n",
      "Iteration 29, loss = 0.06190947\n",
      "Iteration 30, loss = 0.05760596\n",
      "Iteration 31, loss = 0.05247587\n",
      "Iteration 32, loss = 0.04833493\n",
      "Iteration 33, loss = 0.04505484\n",
      "Iteration 34, loss = 0.04039917\n",
      "Iteration 35, loss = 0.03691754\n",
      "Iteration 36, loss = 0.03517565\n",
      "Iteration 37, loss = 0.03153030\n",
      "Iteration 38, loss = 0.02902045\n",
      "Iteration 39, loss = 0.02646586\n",
      "Iteration 40, loss = 0.02485991\n",
      "Iteration 41, loss = 0.02243213\n",
      "Iteration 42, loss = 0.02118735\n",
      "Iteration 43, loss = 0.01924745\n",
      "Iteration 44, loss = 0.01749388\n",
      "Iteration 45, loss = 0.01664953\n",
      "Iteration 46, loss = 0.01557071\n",
      "Iteration 47, loss = 0.01442915\n",
      "Iteration 48, loss = 0.01362803\n",
      "Iteration 49, loss = 0.01305521\n",
      "Iteration 50, loss = 0.01178802\n",
      "Iteration 51, loss = 0.01107685\n",
      "Iteration 52, loss = 0.01015207\n",
      "Iteration 53, loss = 0.00949977\n",
      "Iteration 54, loss = 0.00889581\n",
      "Iteration 55, loss = 0.00837673\n",
      "Iteration 56, loss = 0.00800286\n",
      "Iteration 57, loss = 0.00746484\n",
      "Iteration 58, loss = 0.00697437\n",
      "Iteration 59, loss = 0.00660354\n",
      "Iteration 60, loss = 0.00629012\n",
      "Iteration 61, loss = 0.00598185\n",
      "Iteration 62, loss = 0.00566038\n",
      "Iteration 63, loss = 0.00535117\n",
      "Iteration 64, loss = 0.00501751\n",
      "Iteration 65, loss = 0.00481972\n",
      "Iteration 66, loss = 0.00458996\n",
      "Iteration 67, loss = 0.00428663\n",
      "Iteration 68, loss = 0.00411720\n",
      "Iteration 69, loss = 0.00392706\n",
      "Iteration 70, loss = 0.00372534\n",
      "Iteration 71, loss = 0.00360475\n",
      "Iteration 72, loss = 0.00337665\n",
      "Iteration 73, loss = 0.00320623\n",
      "Iteration 74, loss = 0.00309245\n",
      "Iteration 75, loss = 0.00293418\n",
      "Iteration 76, loss = 0.00277493\n",
      "Iteration 77, loss = 0.00269178\n",
      "Iteration 78, loss = 0.00258927\n",
      "Iteration 79, loss = 0.00247473\n",
      "Iteration 80, loss = 0.00232157\n",
      "Iteration 81, loss = 0.00223692\n",
      "Iteration 82, loss = 0.00220837\n",
      "Iteration 83, loss = 0.00209754\n",
      "Iteration 84, loss = 0.00201576\n",
      "Iteration 85, loss = 0.00192002\n",
      "Iteration 86, loss = 0.00184059\n",
      "Iteration 87, loss = 0.00176272\n",
      "Iteration 88, loss = 0.00171555\n",
      "Iteration 89, loss = 0.00164410\n",
      "Iteration 90, loss = 0.00159484\n",
      "Iteration 91, loss = 0.00153866\n",
      "Iteration 92, loss = 0.00148393\n",
      "Iteration 93, loss = 0.00143871\n",
      "Iteration 94, loss = 0.00139081\n",
      "Training loss did not improve more than tol=0.000100 for 10 consecutive epochs. Stopping.\n",
      "Training score: 1.0\n",
      "Test score: 0.8060068001511145\n"
     ]
    }
   ],
   "source": [
    "#Training score: 1.0\n",
    "#Test score: 0.8192293162070268\n",
    "classifier_en_multi = train_mlp(en_embeddings_multi, en_tags_multi, name=\"en_mlp_mbert\")"
   ]
  },
  {
   "cell_type": "markdown",
   "metadata": {},
   "source": [
    "ZH: <br>\n",
    "Training score: 1.0 <br>\n",
    "Test score: 0.7995890922674636"
   ]
  },
  {
   "cell_type": "code",
   "execution_count": 42,
   "metadata": {},
   "outputs": [
    {
     "name": "stdout",
     "output_type": "stream",
     "text": [
      "Iteration 1, loss = 1.52302379\n",
      "Iteration 2, loss = 0.90748541\n",
      "Iteration 3, loss = 0.73183841\n",
      "Iteration 4, loss = 0.62573758\n",
      "Iteration 5, loss = 0.54260005\n",
      "Iteration 6, loss = 0.48780976\n",
      "Iteration 7, loss = 0.44333115\n",
      "Iteration 8, loss = 0.41217469\n",
      "Iteration 9, loss = 0.38539976\n",
      "Iteration 10, loss = 0.35823862\n",
      "Iteration 11, loss = 0.33101715\n",
      "Iteration 12, loss = 0.31479177\n",
      "Iteration 13, loss = 0.29127759\n",
      "Iteration 14, loss = 0.27589426\n",
      "Iteration 15, loss = 0.25480497\n",
      "Iteration 16, loss = 0.24167261\n",
      "Iteration 17, loss = 0.22861887\n",
      "Iteration 18, loss = 0.21432576\n",
      "Iteration 19, loss = 0.19765101\n",
      "Iteration 20, loss = 0.18532332\n",
      "Iteration 21, loss = 0.17370704\n",
      "Iteration 22, loss = 0.16329940\n",
      "Iteration 23, loss = 0.15221348\n",
      "Iteration 24, loss = 0.14165012\n",
      "Iteration 25, loss = 0.13387711\n",
      "Iteration 26, loss = 0.12348031\n",
      "Iteration 27, loss = 0.11639175\n",
      "Iteration 28, loss = 0.10710120\n",
      "Iteration 29, loss = 0.09986017\n",
      "Iteration 30, loss = 0.09249346\n",
      "Iteration 31, loss = 0.08612141\n",
      "Iteration 32, loss = 0.07957668\n",
      "Iteration 33, loss = 0.07324895\n",
      "Iteration 34, loss = 0.06793102\n",
      "Iteration 35, loss = 0.06427679\n",
      "Iteration 36, loss = 0.06165430\n",
      "Iteration 37, loss = 0.05339654\n",
      "Iteration 38, loss = 0.04986046\n",
      "Iteration 39, loss = 0.04623956\n",
      "Iteration 40, loss = 0.04318336\n",
      "Iteration 41, loss = 0.03922888\n",
      "Iteration 42, loss = 0.03628806\n",
      "Iteration 43, loss = 0.03474210\n",
      "Iteration 44, loss = 0.03155933\n",
      "Iteration 45, loss = 0.02927557\n",
      "Iteration 46, loss = 0.02596291\n",
      "Iteration 47, loss = 0.02465960\n",
      "Iteration 48, loss = 0.02340175\n",
      "Iteration 49, loss = 0.02169811\n",
      "Iteration 50, loss = 0.02039903\n",
      "Iteration 51, loss = 0.01879286\n",
      "Iteration 52, loss = 0.01723015\n",
      "Iteration 53, loss = 0.01647309\n",
      "Iteration 54, loss = 0.01484043\n",
      "Iteration 55, loss = 0.01395960\n",
      "Iteration 56, loss = 0.01329018\n",
      "Iteration 57, loss = 0.01260720\n",
      "Iteration 58, loss = 0.01176642\n",
      "Iteration 59, loss = 0.01098981\n",
      "Iteration 60, loss = 0.01063467\n",
      "Iteration 61, loss = 0.00962586\n",
      "Iteration 62, loss = 0.00898811\n",
      "Iteration 63, loss = 0.00848298\n",
      "Iteration 64, loss = 0.00828984\n",
      "Iteration 65, loss = 0.00776928\n",
      "Iteration 66, loss = 0.00725525\n",
      "Iteration 67, loss = 0.00682632\n",
      "Iteration 68, loss = 0.00645658\n",
      "Iteration 69, loss = 0.00612508\n",
      "Iteration 70, loss = 0.00592593\n",
      "Iteration 71, loss = 0.00551496\n",
      "Iteration 72, loss = 0.00522158\n",
      "Iteration 73, loss = 0.00492021\n",
      "Iteration 74, loss = 0.00472208\n",
      "Iteration 75, loss = 0.00449510\n",
      "Iteration 76, loss = 0.00430971\n",
      "Iteration 77, loss = 0.00412775\n",
      "Iteration 78, loss = 0.00387077\n",
      "Iteration 79, loss = 0.00369791\n",
      "Iteration 80, loss = 0.00351880\n",
      "Iteration 81, loss = 0.00333981\n",
      "Iteration 82, loss = 0.00317363\n",
      "Iteration 83, loss = 0.00305324\n",
      "Iteration 84, loss = 0.00294002\n",
      "Iteration 85, loss = 0.00281296\n",
      "Iteration 86, loss = 0.00270864\n",
      "Iteration 87, loss = 0.00261224\n",
      "Iteration 88, loss = 0.00247898\n",
      "Iteration 89, loss = 0.00242418\n",
      "Iteration 90, loss = 0.00229930\n",
      "Iteration 91, loss = 0.00218627\n",
      "Iteration 92, loss = 0.00214151\n",
      "Iteration 93, loss = 0.00203964\n",
      "Iteration 94, loss = 0.00197494\n",
      "Iteration 95, loss = 0.00193480\n",
      "Iteration 96, loss = 0.00182638\n",
      "Iteration 97, loss = 0.00177829\n",
      "Iteration 98, loss = 0.00168117\n",
      "Iteration 99, loss = 0.00166636\n",
      "Iteration 100, loss = 0.00159080\n",
      "Iteration 101, loss = 0.00152450\n",
      "Iteration 102, loss = 0.00148038\n",
      "Iteration 103, loss = 0.00145015\n",
      "Iteration 104, loss = 0.00141033\n",
      "Iteration 105, loss = 0.00140069\n",
      "Iteration 106, loss = 0.00133450\n",
      "Iteration 107, loss = 0.00128302\n",
      "Training loss did not improve more than tol=0.000100 for 10 consecutive epochs. Stopping.\n",
      "Training score: 1.0\n",
      "Test score: 0.7986552110571535\n"
     ]
    }
   ],
   "source": [
    "classifier_zh_multi = train_mlp(zh_embeddings_multi, zh_tags_multi, name=\"zh_mlp_mbert\")"
   ]
  },
  {
   "cell_type": "markdown",
   "metadata": {},
   "source": [
    "### Evaluation"
   ]
  },
  {
   "cell_type": "markdown",
   "metadata": {},
   "source": [
    "I couldn't use eval_similarity somehow on wsl. It throws an error to me \"AttributeError: module 'numpy' has no attribute 'typeDict'\" and I updated all packages, still didn't work. \n",
    "Maybe I saved the embeddings wrong? I saved as you did: each line is gold-tag + embeddings numbers separated by \"\\t\". <br>\n",
    "Maybe you can fix this for me in the class."
   ]
  },
  {
   "cell_type": "markdown",
   "metadata": {},
   "source": [
    "#### So I used a very simple way to test: <br>\n",
    "Compare:\n",
    "- using classifier trained with mono-lingual embeddings of English words to predict Mandarin POS tags and count their accuracy.\n",
    "- using classifier trained with multi-lingual embeddings of English words to predict Mandarin POS tags and count their accuaracy.\n",
    "\n",
    "We can see that the second one predicts Mandarin with much higher accuracy."
   ]
  },
  {
   "cell_type": "code",
   "execution_count": 48,
   "metadata": {},
   "outputs": [
    {
     "name": "stdout",
     "output_type": "stream",
     "text": [
      "English model using mono-lingual embeddings for Mandarin Tagging Accuracy: 0.13733364464160636\n"
     ]
    }
   ],
   "source": [
    "import numpy as np\n",
    "right = 0\n",
    "for i in range(len(zh_embeddings)):\n",
    "    word = np.array(zh_embeddings[i]).reshape(1, -1)\n",
    "    tag = zh_tags[i]\n",
    "    pred = classifier_en.predict(word)\n",
    "    if pred == tag:\n",
    "        right += 1\n",
    "print(\"English model using mono-lingual embeddings for Mandarin Tagging Accuracy:\", right/len(zh_tags))"
   ]
  },
  {
   "cell_type": "code",
   "execution_count": 49,
   "metadata": {},
   "outputs": [
    {
     "name": "stdout",
     "output_type": "stream",
     "text": [
      "English model using multi-lingual embeddings for Mandarin Tagging Accuracy: 0.4542610319869251\n"
     ]
    }
   ],
   "source": [
    "right = 0\n",
    "for i in range(len(zh_embeddings_multi)):\n",
    "    word = np.array(zh_embeddings_multi[i]).reshape(1, -1)\n",
    "    tag = zh_tags_multi[i]\n",
    "    pred = classifier_en_multi.predict(word)\n",
    "    if pred == tag:\n",
    "        right += 1\n",
    "\n",
    "print(\"English model using multi-lingual embeddings for Mandarin Tagging Accuracy:\", right/len(zh_tags))"
   ]
  }
 ],
 "metadata": {
  "kernelspec": {
   "display_name": "Python 3",
   "language": "python",
   "name": "python3"
  },
  "language_info": {
   "codemirror_mode": {
    "name": "ipython",
    "version": 3
   },
   "file_extension": ".py",
   "mimetype": "text/x-python",
   "name": "python",
   "nbconvert_exporter": "python",
   "pygments_lexer": "ipython3",
   "version": "3.11.6"
  }
 },
 "nbformat": 4,
 "nbformat_minor": 2
}
