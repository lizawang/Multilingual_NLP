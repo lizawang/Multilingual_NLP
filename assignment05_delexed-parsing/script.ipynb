{
 "cells": [
  {
   "cell_type": "markdown",
   "metadata": {},
   "source": [
    "### delexed\n",
    "I trained a delexed udpipe model on Russian training conllu data from UD and named it ***ru.delex.parser.udpipe***. And then I used it to parse **Kazakh** (kk) test data from UD. The accuracy it got is: <br>\n",
    "Parsing from gold tokenization with gold tags - forms: 10007, UAS: 39.32%, LAS: 29.68% <br>\n",
    "<br>"
   ]
  },
  {
   "cell_type": "markdown",
   "metadata": {},
   "source": [
    "- cat ru_gsd-ud-train.conllu | ../assignment04/udpipe --train --parser='embedding_form=0;embedding_feats=0;' --tokenizer=none --tagger=none ru.delex.parser.udpipe\n",
    "- ../assignment04/udpipe --parse -accuracy ru.delex.parser.udpipe < kk_projected_from_ru.conllu "
   ]
  },
  {
   "cell_type": "markdown",
   "metadata": {},
   "source": [
    "### with lexicons\n",
    "Then I trained a normal udpipe model (still without features) on the same Russian training dataset and used the model to parse and evaluate on the same **Kazakh** (kk) test set. The result is not much given that the two languages might share some lexicons but still belong to two different families. <br>\n",
    "Parsing from gold tokenization with gold tags - forms: 10007, UAS: 38.85%, LAS: 29.09%"
   ]
  },
  {
   "cell_type": "markdown",
   "metadata": {},
   "source": [
    "- cat ru_gsd-ud-train.conllu | ../assignment04/udpipe --train --parser='embedding_feats=0;' --to\n",
    "kenizer=none --tagger=none ru.sup.parser.udpipe\n",
    "- ../assignment04/udpipe --parse -accuracy ru.sup.parser.udpipe < ../assignment04/kk_ktb-ud-test\n",
    ".conllu"
   ]
  }
 ],
 "metadata": {
  "language_info": {
   "name": "python"
  }
 },
 "nbformat": 4,
 "nbformat_minor": 2
}
