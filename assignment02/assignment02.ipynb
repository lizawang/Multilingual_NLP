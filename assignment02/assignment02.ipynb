{
 "cells": [
  {
   "cell_type": "code",
   "execution_count": null,
   "metadata": {},
   "outputs": [],
   "source": [
    "from ufal.udpipe import Sentence, Evaluator\n",
    "from udpipe_model import Model\n",
    "dir(Evaluator)"
   ]
  },
  {
   "cell_type": "code",
   "execution_count": 14,
   "metadata": {},
   "outputs": [
    {
     "data": {
      "text/plain": [
       "['世界人权宣言',\n",
       " '序言',\n",
       " '鉴于对人类家庭所有嘅成员固有尊严同埋佢哋嘅平等嘅兼不移嘅权利嘅承认，係世界自由、正义同埋和平嘅基础，',\n",
       " '鉴于对人权嘅无视同埋侮蔑经已发展成为野蛮暴行，呢些暴行玷污咗人类嘅良心，而一个人人都有言论同埋信仰自由而且冇惊冇穷嘅世界嘅嚟临，经已俾宣布係普通人民嘅最高心愿，',\n",
       " '鉴于为咗使人类唔至迫不得已铤而走险对暴政同埋迫害进行反叛，有必要使人权受到法治嘅保护，',\n",
       " '鉴于有必要促进各国友好关系嘅发展，']"
      ]
     },
     "execution_count": 14,
     "metadata": {},
     "output_type": "execute_result"
    }
   ],
   "source": [
    "yue = []\n",
    "with open(\"./udhr_data_cleaned/yue\", \"r\", encoding='utf-8') as f:\n",
    "    for line in f:\n",
    "        yue.append(line.strip())\n",
    "yue[:6]"
   ]
  },
  {
   "cell_type": "code",
   "execution_count": 53,
   "metadata": {},
   "outputs": [],
   "source": [
    "model = Model('chinese-gsd-ud-2.5-191206.udpipe')\n",
    "sentences = model.tokenize(\" \".join(yue[:4]))\n",
    "for s in sentences:\n",
    "   model.tag(s)\n",
    "   model.parse(s)\n",
    "conllu = model.write(sentences, \"conllu\")"
   ]
  },
  {
   "cell_type": "code",
   "execution_count": 67,
   "metadata": {},
   "outputs": [
    {
     "name": "stdout",
     "output_type": "stream",
     "text": [
      "<root> 世界 人 权 宣言 序言 鉴 于 对 人 类 家庭 所有 嘅 成 员 固有 尊 严 同埋 佢 哋 嘅 平等 嘅 兼 不移 嘅 权利 嘅 承 认 ， 係 世界 自由 、 正 义 同埋 和平 嘅 基 础 ， 鉴 于 对 人 权 嘅 无 视 同埋 侮蔑 经 已 发 展成 为 野 蛮 暴行 ， 呢些 暴行 玷污 咗 人 类 嘅 良心 ， 而 一 个 人人 都 有 言 论 同埋 信仰 自由 而且 冇 惊 冇 穷 嘅 世界 嘅 嚟 临 ， 经 已 俾宣 布係 普通 人民 嘅 最 高心 愿 ， "
     ]
    }
   ],
   "source": [
    "for s in sentences:\n",
    "    for w in s.words:\n",
    "        print(w.form, end=\" \")"
   ]
  },
  {
   "cell_type": "markdown",
   "metadata": {},
   "source": [
    "#### Task 1\n",
    "1. **Cantonese (yue)** <br>\n",
    "Command line: *bin-win64/udpipe.exe --tokenize --accuracy .\\chinese-gsd-ud-2.5-191206.udpipe yue_hk-ud-test.conllu* \n",
    "- I used udpipe model of ***chinese-gsd-ud-2.5-191206.udpipe*** to tokenize Cantonese. The decision was simple and straight forward, there are no languages in UD that are closer to Cantonese to Mandarin, unless in the future other southern sinitic dialect is added. <br>\n",
    "- And the accuracy is examed using the test set from UD [Cantonese](https://github.com/UniversalDependencies/UD_Cantonese-HK). It gets the folowing results: <br>\n",
    "    - Number of SpaceAfter=No features in gold data: 13917 <br>\n",
    "    - Tokenizer words - system: 13901, gold: 13918, precision: 77.05%, recall: 76.96%, f1: 77.00% <br>\n",
    "    - Tokenizer sentences - system: 992, gold: 1004, precision: 74.29%, recall: 73.41%, f1: 73.85% <br>\n",
    "\n",
    "2. **Buryat (bxr):** Russia Buriat language <br>\n",
    "Command line: *bin-win64/udpipe.exe --tokenize --accuracy .\\russian-gsd-ud-2.5-191206.udpipe bxr_bdt-ud-test.conllu*\n",
    "- The closest to this language is probably Buryat(bxm) the Mongolia buriat. Unfortunately, both languages are not avaliable in udpipe. I checked other Mongolian languages as well and get the closest language from the assignment 1, it returns **Jad** as the most similar language to bxm. Again all other  Mongolian and Jad are unavailable in udpipe. So the best I can get is Russian and hope that because of the Russian influence on Buryat(bxr), the tokenizatio works fine. The udpipe model used is thus ***russian-gsd-ud-2.5-191206.udpipe***, and the test data used to test the accuracy is from [UD Buryat(bxr)](https://github.com/UniversalDependencies/UD_Buryat-BDT/blob/master/bxr_bdt-ud-test.conllu) test set. <br>\n",
    "And very surprisingly, as far as tokenization goes, Russian and Buriat is very similar maybe due to the fact that they both use cylliric writing system?\n",
    "    - Number of SpaceAfter=No features in gold data: 1758\n",
    "    - Tokenizer words - system: 9955, gold: 10032, precision: 97.74%, recall: 96.99%, f1: 97.36%\n",
    "    - Tokenizer sentences - system: 846, gold: 908, precision: 93.38%, recall: 87.00%, f1: 90.08%\n",
    "\n",
    "3. **Upper Sorbian (hsb):** a West Slavic ethno-cultural minority in the Lusatia region of Eastern Germany <br>\n",
    "Command line: *bin-win64/udpipe.exe --tokenize --accuracy .\\czech-pdt-ud-2.5-191206.udpipe hsb_ufal-ud-test.conllu*\n",
    "- The natural choice will be Czech which is also a West Slavic language. The test data is from [UD Upper Sorbian test set](https://github.com/UniversalDependencies/UD_Upper_Sorbian-UFAL/blob/master/hsb_ufal-ud-test.conllu)\n",
    "- The result is expected. The f1 accuracy is over 90 percent.\n",
    "    - Number of SpaceAfter=No features in gold data: 2052\n",
    "    - Tokenizer words - system: 10706, gold: 10736, precision: 99.60%, recall: 99.32%, f1: 99.46%\n",
    "    - Tokenizer sentences - system: 630, gold: 623, precision: 91.90%, recall: 92.94%, f1: 92.42%\n"
   ]
  },
  {
   "cell_type": "markdown",
   "metadata": {},
   "source": [
    "#### Task 2 \n",
    "Command line: <br>\n",
    "*bin-win64/udpipe.exe --train --tagger=none --parser=none output_model.udpipe bxr_bdt-ud-train.conllu* <br>\n",
    "*bin-win64/udpipe.exe --tokenize --accuracy .\\output_model.udpipe bxr_bdt-ud-test.conllu*\n",
    "- I downloaded [Buryat(bxr) training data](https://github.com/UniversalDependencies/UD_Buryat-BDT/blob/master/bxr_bdt-ud-train.conllu) from UD and trained Buryat udpipe model with it with default hyperparameters. \n",
    "- After it's trained, I evaluated the newly trained model the test dataset and the accuracies are as below. We can see that tokenizer on words are not as good as using Russian udpipe model, but the tokenizer on sentences are better:\n",
    "    - Number of SpaceAfter=No features in gold data: 1758\n",
    "    - Tokenizer words - system: 10007, gold: 10032, precision: 96.80%, recall: 96.56%, f1: 96.68%\n",
    "    - Tokenizer sentences - system: 895, gold: 908, precision: 92.74%, recall: 91.41%, f1: 92.07%\n"
   ]
  }
 ],
 "metadata": {
  "kernelspec": {
   "display_name": "Python 3",
   "language": "python",
   "name": "python3"
  },
  "language_info": {
   "codemirror_mode": {
    "name": "ipython",
    "version": 3
   },
   "file_extension": ".py",
   "mimetype": "text/x-python",
   "name": "python",
   "nbconvert_exporter": "python",
   "pygments_lexer": "ipython3",
   "version": "3.11.6"
  }
 },
 "nbformat": 4,
 "nbformat_minor": 2
}
